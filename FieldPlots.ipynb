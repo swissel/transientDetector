{
 "cells": [
  {
   "cell_type": "code",
   "execution_count": 2,
   "metadata": {},
   "outputs": [],
   "source": [
    "import pandas as pd\n",
    "import numpy as np\n",
    "import matplotlib.pyplot as plt \n"
   ]
  },
  {
   "cell_type": "code",
   "execution_count": 107,
   "metadata": {},
   "outputs": [],
   "source": [
    "pathname = \"D:/LWA-OVRO/TransientRates/\"\n",
    "filename = \"May27_VHFBoxes1_VPOL_ThresholdScan_Terminated.csv\""
   ]
  },
  {
   "cell_type": "code",
   "execution_count": 115,
   "metadata": {},
   "outputs": [
    {
     "name": "stdout",
     "output_type": "stream",
     "text": [
      "    disclevelmV    counts\n",
      "0           0.0  49082286\n",
      "1           1.0  49154926\n",
      "2           2.0  46483524\n",
      "3           3.0  42146538\n",
      "4           4.0  36560828\n",
      "5           5.0  30918639\n",
      "6           6.0  24696493\n",
      "7           7.0  19203122\n",
      "8           8.0  15140888\n",
      "9           9.0  10275467\n",
      "10         10.0   6632782\n",
      "11         11.0   3949116\n",
      "12         12.0   2054704\n",
      "13         13.0    999541\n",
      "14         14.0    422088\n",
      "15         15.0    163519\n",
      "16         16.0     72122\n",
      "17         17.0     28000\n",
      "18         18.0      8955\n",
      "19         19.0      2795\n",
      "20         20.0       982\n",
      "21         21.0       275\n",
      "24577463.0\n"
     ]
    }
   ],
   "source": [
    "fname = pathname+filename\n",
    "df = pd.read_csv(fname,',', skiprows=1,names=['disclevelmV','counts'])\n",
    "\n",
    "#print(df)\n",
    "print(df[df.counts >120])\n",
    "\n",
    "print(max(df.counts)/2)\n"
   ]
  },
  {
   "cell_type": "code",
   "execution_count": 113,
   "metadata": {},
   "outputs": [
    {
     "data": {
      "image/png": "[encoded data removed]",
      "text/plain": [
       "<matplotlib.figure.Figure at 0xbc7fb38>"
      ]
     },
     "metadata": {},
     "output_type": "display_data"
    }
   ],
   "source": [
    "plt.plot(df.disclevelmV,df.counts)\n",
    "plt.xlim(0,10)\n",
    "#plt.ylim(249554440,24955444)\n",
    "plt.show()"
   ]
  },
  {
   "cell_type": "code",
   "execution_count": 15,
   "metadata": {},
   "outputs": [
    {
     "name": "stdout",
     "output_type": "stream",
     "text": [
      "  NPeriods comments countMode  countPeriodSeconds counterAInput counterTInput  \\\n",
      "0        1     None         0                 1.0             1             0   \n",
      "\n",
      "  daynight discAMode                       filename freqband pol   run  \\\n",
      "0      Day         0  run5_2018-05-14_17-11-58.hdf5      VHF   V  None   \n",
      "\n",
      "      timestamp weather  \n",
      "0  1.526343e+09    Nice  \n"
     ]
    }
   ],
   "source": [
    "pathname = 'D:/LWA-OVRO/TransientRates/Site1_May26th2018/'\n",
    "#filename = 'run3_2018-05-26_15-55-42.hdf5'\n",
    "#filename = 'run5_2018-05-26_16-38-06.hdf5'\n",
    "filename = 'run5_2018-05-14_17-11-58.hdf5'\n",
    "#filename = 'run1_2018-05-14_15-03-07.hdf5'\n",
    "\n",
    "#df1= pd.read_hdf(pathname+filename,key='rates',names = ['rates','thresholdmV','timestamp'])\n",
    "df1 = pd.read_hdf(pathname+filename,key='header')\n",
    "#print(df1['comments'])\n",
    "\n",
    "print(df1)\n"
   ]
  },
  {
   "cell_type": "code",
   "execution_count": 71,
   "metadata": {},
   "outputs": [
    {
     "data": {
      "image/png": "[encoded data removed]",
      "text/plain": [
       "<matplotlib.figure.Figure at 0xbb57320>"
      ]
     },
     "metadata": {},
     "output_type": "display_data"
    }
   ],
   "source": [
    "plt.figure(2)\n",
    "plt.plot(df1.timestamp,df1.rates)\n",
    "#plt.ylim(0,2000)\n",
    "plt.show()"
   ]
  },
  {
   "cell_type": "code",
   "execution_count": null,
   "metadata": {},
   "outputs": [],
   "source": []
  }
 ],
 "metadata": {
  "kernelspec": {
   "display_name": "Python 3",
   "language": "python",
   "name": "python3"
  },
  "language_info": {
   "codemirror_mode": {
    "name": "ipython",
    "version": 3
   },
   "file_extension": ".py",
   "mimetype": "text/x-python",
   "name": "python",
   "nbconvert_exporter": "python",
   "pygments_lexer": "ipython3",
   "version": "3.6.3"
  }
 },
 "nbformat": 4,
 "nbformat_minor": 2
}
