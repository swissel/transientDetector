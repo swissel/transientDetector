{
 "cells": [
  {
   "cell_type": "code",
   "execution_count": 160,
   "metadata": {
    "collapsed": true
   },
   "outputs": [],
   "source": [
    "import visa\n",
    "import time\n",
    "import numpy as np\n",
    "import csv\n",
    "import pandas as pd\n",
    "import matplotlib.pyplot as plt\n",
    "%matplotlib inline"
   ]
  },
  {
   "cell_type": "code",
   "execution_count": 161,
   "metadata": {
    "collapsed": true
   },
   "outputs": [],
   "source": [
    "rm = visa.ResourceManager()\n",
    "gpc = rm.open_resource('GPIB::23::INSTR',read_termination='\\r\\n')\n",
    "\n",
    "\n",
    "\n",
    "#change these variables to the path where you want your file saved and its name\n",
    "path = 'D:/TunnelDiodeSNR/'\n",
    "filename = 'noiseDiode6ENR_VHF30-300MHz.txt'\n",
    "\n",
    "dv = 0.001 # 1 mV #smallest resolution = 0.02 mV\n",
    "dmax = .250 # 10 mV; later use 50 mV"
   ]
  },
  {
   "cell_type": "code",
   "execution_count": 162,
   "metadata": {},
   "outputs": [
    {
     "data": {
      "text/plain": [
       "(7, <StatusCode.success: 0>)"
      ]
     },
     "execution_count": 162,
     "metadata": {},
     "output_type": "execute_result"
    }
   ],
   "source": [
    "gpc.write(\"CM0\") #counting mode A,B for T Preset\n",
    "gpc.write(\"CI0\") #counter A to input 1\n",
    "gpc.write(\"CP2,0\") #counter T to 10 MHz\n",
    "gpc.write(\"CP2,1e7\") #set T Set to 1s \n",
    "#note: T set is the number of cycles of the 10MHz clock, not seconds\n",
    "N = 100 #int(np.ceil(dmax/dv))\n",
    "gpc.write('NP'+str(N)) #set number of periods\n",
    "gpc.write('DM0,0') #set discriminator mode to fixed\n",
    "\n"
   ]
  },
  {
   "cell_type": "code",
   "execution_count": 163,
   "metadata": {},
   "outputs": [
    {
     "name": "stdout",
     "output_type": "stream",
     "text": [
      "1\n"
     ]
    }
   ],
   "source": [
    "#n = gpc.write('NP100')\n",
    "#print(n)\n",
    "n1 = gpc.query('DL0,0')\n",
    "print(n1)"
   ]
  },
  {
   "cell_type": "code",
   "execution_count": 174,
   "metadata": {
    "scrolled": true
   },
   "outputs": [
    {
     "name": "stdout",
     "output_type": "stream",
     "text": [
      "Count 46\n",
      "Status bit 1\n",
      "0 1\n",
      "46\n",
      "Status bit 1\n",
      "0 1\n",
      "Status bit 0\n",
      "0 1\n",
      "<class 'str'>\n"
     ]
    }
   ],
   "source": [
    "gpc.write(\"DCL\")\n",
    "gpc.write(\"CR;CS\")\n",
    "#time.sleep(1)\n",
    "'''ss = gpc.query(\"SS\")\n",
    "print(ss)\n",
    "if( len(ss) == 1):\n",
    "    print(bin(ord(ss))[2:][1])\n",
    "'''\n",
    "ss = 0\n",
    "while ( int(ss) != 1 ):\n",
    "    ss = gpc.query(\"SS1\")\n",
    "    #print('Status bit 1 %s'%ss)\n",
    "    #count = gpc.query(\"QA\")\n",
    "#ss = gpc.query(\"SS1\")\n",
    "#print('Status bit 1')\n",
    "#print(ss,len(ss))\n",
    "count = gpc.query(\"QA\")\n",
    "print(\"Count %s\"%count)\n",
    "ss = gpc.query(\"SS1\")\n",
    "print('Status bit 1')\n",
    "print(ss,len(ss))\n",
    "\n",
    "print(count)\n",
    "ss = gpc.query(\"SS1\")\n",
    "ss0 = gpc.query(\"SS0\")\n",
    "print('Status bit 1')\n",
    "print(ss,len(ss))\n",
    "print('Status bit 0')\n",
    "print(ss0,len(ss0))\n",
    "print(type(ss))"
   ]
  },
  {
   "cell_type": "code",
   "execution_count": 53,
   "metadata": {
    "scrolled": true
   },
   "outputs": [
    {
     "name": "stdout",
     "output_type": "stream",
     "text": [
      "disc level: 0.0 (mV),  counts: 0\n",
      "disc level: 1.0 (mV),  counts: 0\n"
     ]
    },
    {
     "ename": "KeyboardInterrupt",
     "evalue": "",
     "output_type": "error",
     "traceback": [
      "\u001b[1;31m---------------------------------------------------------------------------\u001b[0m",
      "\u001b[1;31mKeyboardInterrupt\u001b[0m                         Traceback (most recent call last)",
      "\u001b[1;32m<ipython-input-53-dc014ddcd6c8>\u001b[0m in \u001b[0;36m<module>\u001b[1;34m()\u001b[0m\n\u001b[0;32m     12\u001b[0m \u001b[1;33m\u001b[0m\u001b[0m\n\u001b[0;32m     13\u001b[0m     \u001b[0mgpc\u001b[0m\u001b[1;33m.\u001b[0m\u001b[0mwrite\u001b[0m\u001b[1;33m(\u001b[0m\u001b[1;34m'CR;CS'\u001b[0m\u001b[1;33m)\u001b[0m \u001b[1;31m# start the scan\u001b[0m\u001b[1;33m\u001b[0m\u001b[0m\n\u001b[1;32m---> 14\u001b[1;33m     \u001b[0mtime\u001b[0m\u001b[1;33m.\u001b[0m\u001b[0msleep\u001b[0m\u001b[1;33m(\u001b[0m\u001b[1;36m2\u001b[0m\u001b[1;33m)\u001b[0m\u001b[1;33m\u001b[0m\u001b[0m\n\u001b[0m\u001b[0;32m     15\u001b[0m \u001b[1;33m\u001b[0m\u001b[0m\n\u001b[0;32m     16\u001b[0m     \u001b[0mj\u001b[0m \u001b[1;33m=\u001b[0m \u001b[1;36m0\u001b[0m\u001b[1;33m;\u001b[0m\u001b[1;33m\u001b[0m\u001b[0m\n",
      "\u001b[1;31mKeyboardInterrupt\u001b[0m: "
     ]
    }
   ],
   "source": [
    "file = open(path + filename, 'w')\n",
    "file.write('Discriminator Level (V), Counts\\n')\n",
    "\n",
    "D = np.arange(0,dmax+dv,dv)\n",
    "gpc.write(\"DL0,0\") #set discriminator threshold to zero\n",
    "    \n",
    "for i in D:\n",
    "    #print('go to level'+str(i))\n",
    "    gpc.write(\"DL0,\"+str(i))\n",
    "    #disc = gpc.query(\"DZ0\") #reads discriminator value\n",
    "    #print('level = '+ disc)\n",
    "\n",
    "    gpc.write('CR;CS') # start the scan\n",
    "    time.sleep(2)\n",
    "    \n",
    "    j = 0;\n",
    "    while j < 1:\n",
    "        #ss = -1\n",
    "        #while ss != \"0\":\n",
    "         #   ss = gpc.query(\"SS1\") # wait for the photon counter to be ready\n",
    "          #  print('ss'+ss)\n",
    "    #Now read the counter\n",
    "        A  = gpc.query(\"QA1\")\n",
    "        #print('A'+A)\n",
    "        if np.float(A) >= 0:\n",
    "            break\n",
    "        else:\n",
    "            continue\n",
    "    #time.sleep(.)        \n",
    "\n",
    "    #add period here?\n",
    "    \n",
    "    print('disc level: '+str(i*10**3)+' (mV),  counts: '+A)\n",
    "    file.write(str(i)+','+A+'\\n')\n",
    "    time.sleep(.5)\n",
    "\n",
    "file.close()\n",
    "    \n"
   ]
  },
  {
   "cell_type": "code",
   "execution_count": 52,
   "metadata": {},
   "outputs": [
    {
     "name": "stderr",
     "output_type": "stream",
     "text": [
      "C:\\Users\\Anita\\anaconda3\\lib\\site-packages\\matplotlib\\axes\\_base.py:3245: UserWarning: Attempted to set non-positive ylimits for log-scale axis; invalid limits will be ignored.\n",
      "  'Attempted to set non-positive ylimits for log-scale axis; '\n"
     ]
    },
    {
     "data": {
      "image/png": "[encoded data removed]",
      "text/plain": [
       "<matplotlib.figure.Figure at 0xc6e9438>"
      ]
     },
     "metadata": {},
     "output_type": "display_data"
    },
    {
     "data": {
      "text/plain": [
       "<matplotlib.figure.Figure at 0xc502080>"
      ]
     },
     "metadata": {},
     "output_type": "display_data"
    }
   ],
   "source": [
    "df = pd.read_csv(path+filename, sep = ',')\n",
    "\n",
    "disc = df['Discriminator Level (V)'] \n",
    "counts = df[' Counts'] \n",
    "fig1 = plt.figure(1)\n",
    "plt.rcParams['font.size']=16\n",
    "plt.semilogy(disc*10**3,counts,'.')\n",
    "plt.ylim(0,max(counts)+ .25*max(counts))\n",
    "plt.xlim(0,300)\n",
    "plt.grid(True)\n",
    "plt.xlabel('Discriminator Level (mV)')\n",
    "plt.ylabel('Counts')\n",
    "\n",
    "plt.show()\n",
    "plt.savefig(path+\"noiseDiode6ENR_VHF30-300MHz_.pdf\", bbox_inches='tight')"
   ]
  },
  {
   "cell_type": "code",
   "execution_count": 53,
   "metadata": {},
   "outputs": [
    {
     "data": {
      "text/plain": [
       "Text(0.5,1,'Pulser 0.5 MHz, 0.8 SNR, Amp after TD')"
      ]
     },
     "execution_count": 53,
     "metadata": {},
     "output_type": "execute_result"
    },
    {
     "data": {
      "image/png": "[encoded data removed]",
      "text/plain": [
       "<matplotlib.figure.Figure at 0xc6e9e80>"
      ]
     },
     "metadata": {},
     "output_type": "display_data"
    }
   ],
   "source": [
    "df = pd.read_csv(path+filename, sep = ',')\n",
    "\n",
    "disc = df['Discriminator Level (V)'] \n",
    "counts = df[' Counts'] \n",
    "\n",
    "pulser_period = 2e-6 # 2 microseconds between triggers\n",
    "pulser_rep_rate = 1./pulser_period\n",
    "count_time = 1 # second\n",
    "expected_counts = count_time * pulser_rep_rate\n",
    "\n",
    "fig1 = plt.figure(1)\n",
    "plt.rcParams['font.size']=16\n",
    "plt.plot(disc*10**3,counts/expected_counts,'.', markersize=8)\n",
    "plt.ylim(0,1)\n",
    "plt.xlim(0,200)\n",
    "plt.grid(True)\n",
    "plt.hlines(0.5, 0,300, linestyle='--', alpha=0.7)\n",
    "plt.xlabel('Discriminator Level (mV)')\n",
    "plt.ylabel('Trigger Efficiency')\n",
    "plt.title(\"Pulser %2.1f MHz, 0.8 SNR, Amp after TD\"%(pulser_rep_rate/1e6))\n",
    "#plt.show()\n",
    "#plt.savefig(path+\"SNR5_amp_threshold_example_eff.pdf\", bbox_inches='tight')"
   ]
  },
  {
   "cell_type": "code",
   "execution_count": null,
   "metadata": {
    "collapsed": true
   },
   "outputs": [],
   "source": []
  },
  {
   "cell_type": "code",
   "execution_count": null,
   "metadata": {
    "collapsed": true
   },
   "outputs": [],
   "source": []
  }
 ],
 "metadata": {
  "kernelspec": {
   "display_name": "Python 3",
   "language": "python",
   "name": "python3"
  },
  "language_info": {
   "codemirror_mode": {
    "name": "ipython",
    "version": 3
   },
   "file_extension": ".py",
   "mimetype": "text/x-python",
   "name": "python",
   "nbconvert_exporter": "python",
   "pygments_lexer": "ipython3",
   "version": "3.6.3"
  }
 },
 "nbformat": 4,
 "nbformat_minor": 2
}
