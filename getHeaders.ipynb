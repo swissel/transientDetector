{
 "cells": [
  {
   "cell_type": "code",
   "execution_count": 1,
   "metadata": {},
   "outputs": [],
   "source": [
    "import pandas as pd\n",
    "import numpy as np\n",
    "import matplotlib.pyplot as plt \n",
    "import os"
   ]
  },
  {
   "cell_type": "code",
   "execution_count": 2,
   "metadata": {},
   "outputs": [],
   "source": [
    "def getHDF5HeaderInfo(pathname,filename):\n",
    "\n",
    "    N = ['NPeriods','comments','countMode','countPeriodSeconds','counterAInput','counterTInput','daynight',\n",
    "             'discAMode','filename','fixedDiscThresholdmV','freqband','pol','run','runTimeMinutes','timestamp','weather']\n",
    "    \n",
    "    print('reading file: ',filename)\n",
    "    \n",
    "    if filename[0] == 's':\n",
    "        return\n",
    "\n",
    "    elif filename[4] == '_':\n",
    "        runN = filename[3]\n",
    "    else:\n",
    "        runN = filename[3]+filename[4]\n",
    "    print('run number:', runN)\n",
    "    \n",
    "    df1 = pd.read_hdf(pathname+filename,key='header',names = N)\n",
    "\n",
    "    newfilename = 'HeaderInfo_Run'+runN+'.txt'\n",
    "    newf = open(pathname+newfilename,'w')\n",
    "\n",
    "    for i in N:\n",
    "        newf.write(i+': ')\n",
    "        x = df1[i].values[0]\n",
    "        if type(x) == str:\n",
    "            newf.write(x)\n",
    "        else:\n",
    "            newf.write(str(x))\n",
    "        newf.write('\\n')\n",
    "        \n",
    "    newf.close()\n",
    "    return"
   ]
  },
  {
   "cell_type": "code",
   "execution_count": 3,
   "metadata": {},
   "outputs": [
    {
     "ename": "FileNotFoundError",
     "evalue": "[Errno 2] No such file or directory: 'D:/LWA-OVRO/TransientRates/Site2_May27th2018/'",
     "output_type": "error",
     "traceback": [
      "\u001b[0;31m---------------------------------------------------------------------------\u001b[0m",
      "\u001b[0;31mFileNotFoundError\u001b[0m                         Traceback (most recent call last)",
      "\u001b[0;32m<ipython-input-3-4f905d9fe42f>\u001b[0m in \u001b[0;36m<module>\u001b[0;34m()\u001b[0m\n\u001b[1;32m      4\u001b[0m \u001b[0mfiles\u001b[0m \u001b[0;34m=\u001b[0m \u001b[0;34m[\u001b[0m\u001b[0;34m]\u001b[0m\u001b[0;34m\u001b[0m\u001b[0m\n\u001b[1;32m      5\u001b[0m \u001b[0;34m\u001b[0m\u001b[0m\n\u001b[0;32m----> 6\u001b[0;31m \u001b[0;32mfor\u001b[0m \u001b[0mentry\u001b[0m \u001b[0;32min\u001b[0m \u001b[0mos\u001b[0m\u001b[0;34m.\u001b[0m\u001b[0mscandir\u001b[0m\u001b[0;34m(\u001b[0m\u001b[0mpathname\u001b[0m\u001b[0;34m)\u001b[0m\u001b[0;34m:\u001b[0m\u001b[0;34m\u001b[0m\u001b[0m\n\u001b[0m\u001b[1;32m      7\u001b[0m     \u001b[0;31m#if entry.is_dir():\u001b[0m\u001b[0;34m\u001b[0m\u001b[0;34m\u001b[0m\u001b[0m\n\u001b[1;32m      8\u001b[0m         \u001b[0;31m#folders.append(entry.path)\u001b[0m\u001b[0;34m\u001b[0m\u001b[0;34m\u001b[0m\u001b[0m\n",
      "\u001b[0;31mFileNotFoundError\u001b[0m: [Errno 2] No such file or directory: 'D:/LWA-OVRO/TransientRates/Site2_May27th2018/'"
     ]
    }
   ],
   "source": [
    "#pathname = 'D:/LWA-OVRO/TransientRates/Site1_May26th2018/'\n",
    "pathname = 'D:/LWA-OVRO/TransientRates/Site2_May27th2018/'\n",
    "\n",
    "files = []\n",
    " \n",
    "for entry in os.scandir(pathname):\n",
    "    #if entry.is_dir():\n",
    "        #folders.append(entry.path)\n",
    "    if entry.is_file():\n",
    "        files.append(entry.name)\n"
   ]
  },
  {
   "cell_type": "code",
   "execution_count": 176,
   "metadata": {},
   "outputs": [
    {
     "name": "stdout",
     "output_type": "stream",
     "text": [
      "reading file:  run9_2018-05-27_14-16-17.hdf5\n",
      "run number: 9\n",
      "reading file:  stopped_run1_2018-05-27_11-59-01.hdf5\n",
      "reading file:  run1_2018-05-27_12-01-28.hdf5\n",
      "run number: 1\n",
      "reading file:  run2_2018-05-27_12-13-26.hdf5\n",
      "run number: 2\n",
      "reading file:  run3_2018-05-27_12-24-38.hdf5\n",
      "run number: 3\n",
      "reading file:  run4_2018-05-27_12-45-22.hdf5\n",
      "run number: 4\n",
      "reading file:  run5_2018-05-27_12-56-49.hdf5\n",
      "run number: 5\n",
      "reading file:  run6_2018-05-27_13-07-57.hdf5\n",
      "run number: 6\n",
      "reading file:  run7_2018-05-27_13-31-48.hdf5\n",
      "run number: 7\n",
      "reading file:  run8_2018-05-27_13-51-46.hdf5\n",
      "run number: 8\n"
     ]
    }
   ],
   "source": [
    "for f in files:\n",
    "        getHDF5HeaderInfo(pathname,f)\n"
   ]
  },
  {
   "cell_type": "code",
   "execution_count": 68,
   "metadata": {},
   "outputs": [],
   "source": [
    "newfilename = 'HeaderInfo_Run'+runN+'.txt'\n",
    "newf = open(pathname+newfilename,'w')\n",
    "#newf.write(N)\n",
    "#newf.write('\\n')\n",
    "\n",
    "for i in N:\n",
    "    newf.write(i+': ')\n",
    "    x = df1[i].values[0]\n",
    "    if type(x) == str:\n",
    "        newf.write(x)\n",
    "    else:\n",
    "        newf.write(str(x))\n",
    "    newf.write('\\n')\n",
    "    \n",
    "newf.close()\n"
   ]
  },
  {
   "cell_type": "code",
   "execution_count": null,
   "metadata": {},
   "outputs": [],
   "source": []
  }
 ],
 "metadata": {
  "kernelspec": {
   "display_name": "Python 3",
   "language": "python",
   "name": "python3"
  },
  "language_info": {
   "codemirror_mode": {
    "name": "ipython",
    "version": 3
   },
   "file_extension": ".py",
   "mimetype": "text/x-python",
   "name": "python",
   "nbconvert_exporter": "python",
   "pygments_lexer": "ipython3",
   "version": "3.6.5"
  }
 },
 "nbformat": 4,
 "nbformat_minor": 2
}
