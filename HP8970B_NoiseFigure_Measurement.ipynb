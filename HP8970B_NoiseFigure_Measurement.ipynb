{
 "cells": [
  {
   "cell_type": "code",
   "execution_count": 7,
   "metadata": {
    "collapsed": true
   },
   "outputs": [],
   "source": [
    "import visa\n",
    "import time\n",
    "import numpy as np\n",
    "import csv\n",
    "import pandas as pd\n",
    "import matplotlib.pyplot as plt"
   ]
  },
  {
   "cell_type": "code",
   "execution_count": 13,
   "metadata": {},
   "outputs": [
    {
     "data": {
      "text/plain": [
       "(4, <StatusCode.success: 0>)"
      ]
     },
     "execution_count": 13,
     "metadata": {},
     "output_type": "execute_result"
    }
   ],
   "source": [
    "'''Open connection to noise figure meter & begin remote control'''\n",
    "rm = visa.ResourceManager()\n",
    "#rm.list_resources()\n",
    "nfm = rm.open_resource('GPIB1::8::INSTR', read_termination = '\\r\\n') #in manual as carriage return \n",
    "nfm.write('R6')\n",
    "        "
   ]
  },
  {
   "cell_type": "code",
   "execution_count": 9,
   "metadata": {
    "collapsed": true
   },
   "outputs": [],
   "source": [
    "'''Declare Test Variables: all you need to change is here!'''\n",
    "\n",
    "## The default range is 10 - 1590 MHz in steps of 20 MHz. If you want to change this, change \n",
    "## default_fRange to False and change the start, stop, and step frequency values. Note: in measurement mode 1,\n",
    "## the maximum frequency is 1600 MHz.\n",
    "\n",
    "default_fRange = True\n",
    "\n",
    "fstart = 10 #starting freq in MHz\n",
    "fstop = 20 #end freq in MHz\n",
    "fstep = 1 #step size in MHz\n",
    "\n",
    "#change these variables to the path where you want your file saved and its name\n",
    "path = 'D:/MountaintopNoiseFigure/'\n",
    "filename = 'Stage2-VHF-Box2-10MHzStep-25FilterRun2.txt'\n"
   ]
  },
  {
   "cell_type": "code",
   "execution_count": 10,
   "metadata": {
    "collapsed": true
   },
   "outputs": [],
   "source": [
    "#set up the test\n",
    "\n",
    "#configure NF meter\n",
    "nfm.write('H1') #set to output freq, insertion gain, and the noise figure\n",
    "nfm.write('N0') #set the units of the noise figure to dB\n",
    "\n",
    "if default_fRange == True:\n",
    "    fstart = 10 #starting freq in MHz\n",
    "    fstop = 1590 #end freq in MHz\n",
    "    fstep = 10 #step size in MHz\n",
    "\n",
    "#nfm.write('M1') #sets it to uncorrected noise figure \n",
    "#nfm.write('M2') #sets it to corrected noise figure (should be done automatically after calibration)\n"
   ]
  },
  {
   "cell_type": "code",
   "execution_count": 11,
   "metadata": {},
   "outputs": [
    {
     "name": "stdout",
     "output_type": "stream",
     "text": [
      "Starting Sweep:\n",
      "On frequency:1590 MHz\n",
      "Sweep Completed\n"
     ]
    }
   ],
   "source": [
    "file = open(path + filename, 'w')\n",
    "\n",
    "file.write('Frequency (Hz),Insertion Gain (dB),Noise Figure (dB)\\n')\n",
    "print('Starting Sweep:')\n",
    "for f in np.arange(fstart,fstop+fstep,fstep):\n",
    "    print('On frequency:'+str(f) + ' MHz',end='\\r',flush=True)\n",
    "    d = nfm.query('FR '+str(f)+'en') #goes to frequency\n",
    "    #print(type(d))\n",
    "    time.sleep(.5) #delay half a second\n",
    "    ##print(d +'\\n')##\n",
    "    file.write(d+'\\n') #write the data to file\n",
    "    \n",
    "file.close()\n",
    "print('\\n'+'Sweep Completed')"
   ]
  },
  {
   "cell_type": "code",
   "execution_count": 12,
   "metadata": {},
   "outputs": [
    {
     "data": {
      "image/png": "[encoded data removed]",
      "text/plain": [
       "<matplotlib.figure.Figure at 0xa685240>"
      ]
     },
     "metadata": {},
     "output_type": "display_data"
    },
    {
     "data": {
      "image/png": "[encoded data removed]",
      "text/plain": [
       "<matplotlib.figure.Figure at 0xa980668>"
      ]
     },
     "metadata": {},
     "output_type": "display_data"
    }
   ],
   "source": [
    "\"\"\"Plot the data\"\"\"\n",
    "df = pd.read_csv(path+filename, sep = ',')\n",
    "\n",
    "f = df['Frequency (Hz)'] \n",
    "IG = df['Insertion Gain (dB)'] \n",
    "F = df['Noise Figure (dB)'] \n",
    "plt.plot(f*10**-6,F,'.')\n",
    "#plt.ylim(min(F) - .25*max(F),max(F)+ .25*max(F))\n",
    "plt.xlim(0,500)\n",
    "plt.ylim(0,10)\n",
    "plt.xlabel('Frequency (MHz)')\n",
    "plt.ylabel('Noise Figure (dB)')\n",
    "\n",
    "#plt.xlim(0,1.4e9)\n",
    "fig1 = plt.figure(2)\n",
    "plt.plot(f*10**-6,IG,'.')\n",
    "plt.ylim(min(IG) - .25*max(IG),max(IG)+ .25*max(IG))\n",
    "plt.xlabel('Frequency (MHz)')\n",
    "plt.ylabel('Insertion Gain (dB)')\n",
    "plt.xlim(0,1600)\n",
    "plt.ylim(10,45)\n",
    "plt.show()"
   ]
  },
  {
   "cell_type": "code",
   "execution_count": null,
   "metadata": {
    "collapsed": true
   },
   "outputs": [],
   "source": []
  },
  {
   "cell_type": "code",
   "execution_count": null,
   "metadata": {
    "collapsed": true
   },
   "outputs": [],
   "source": []
  }
 ],
 "metadata": {
  "kernelspec": {
   "display_name": "Python 3",
   "language": "python",
   "name": "python3"
  },
  "language_info": {
   "codemirror_mode": {
    "name": "ipython",
    "version": 3
   },
   "file_extension": ".py",
   "mimetype": "text/x-python",
   "name": "python",
   "nbconvert_exporter": "python",
   "pygments_lexer": "ipython3",
   "version": "3.6.3"
  }
 },
 "nbformat": 4,
 "nbformat_minor": 2
}
